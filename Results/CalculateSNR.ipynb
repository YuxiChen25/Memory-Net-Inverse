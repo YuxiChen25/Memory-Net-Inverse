{
 "cells": [
  {
   "cell_type": "code",
   "execution_count": 1,
   "id": "90d51225-6fda-4ea9-af57-26b2b60569cf",
   "metadata": {},
   "outputs": [],
   "source": [
    "import pickle\n",
    "import random\n",
    "import numpy as np\n",
    "import torch\n",
    "import os\n",
    "\n",
    "import sys\n",
    "sys.path.append('..')\n",
    "from Auxiliary_Functions.generate_observation import generate_observations, split_dataset\n",
    "from Auxiliary_Functions.save_progress import save_progress\n",
    "from Auxiliary_Functions.matrix_normalization import normalize_max_row_norm\n",
    "\n",
    "from Denoising_Algorithms.Projectors.DnCNN import DnCNN\n",
    "from Denoising_Algorithms.DL_Training.evaluation import average_PSNR\n",
    "from Denoising_Algorithms.DL_Training.loss_functions import IntermediateScaledLoss\n",
    "from Denoising_Algorithms.DL_Training.training import train_main\n",
    "from Denoising_Algorithms.Nesterov_Network.Nesterov import Nesterov\n",
    "from Denoising_Algorithms.DL_Training.evaluation import average_PSNR"
   ]
  },
  {
   "cell_type": "code",
   "execution_count": 2,
   "id": "6a15bd73-7bf2-470b-bfa3-6f2fd5c323d0",
   "metadata": {},
   "outputs": [],
   "source": [
    "with open('/Users/wizard/Memory-Net-Inverse/Auxiliary_Functions/sensing_matrices/50 x 50 images/Gaussian_10.pkl', 'rb') as f:\n",
    "    gaussian_10 = pickle.load(f)\n",
    "with open('/Users/wizard/Memory-Net-Inverse/Auxiliary_Functions/sensing_matrices/50 x 50 images/Gaussian_20.pkl', 'rb') as f:\n",
    "    gaussian_20 = pickle.load(f)\n",
    "with open('/Users/wizard/Memory-Net-Inverse/Auxiliary_Functions/sensing_matrices/50 x 50 images/Gaussian_30.pkl', 'rb') as f:\n",
    "    gaussian_30 = pickle.load(f)\n",
    "with open('/Users/wizard/Memory-Net-Inverse/Auxiliary_Functions/sensing_matrices/50 x 50 images/Gaussian_40.pkl', 'rb') as f:\n",
    "    gaussian_40 = pickle.load(f)"
   ]
  },
  {
   "cell_type": "code",
   "execution_count": 3,
   "id": "64dbb662-5673-4553-95c9-f1bfb8805e36",
   "metadata": {},
   "outputs": [],
   "source": [
    "with open('/Users/wizard/Memory-Net-Inverse/Auxiliary_Functions/ILSVRC2012_50x50_small.pkl', 'rb') as f:\n",
    "    ILSVRC2012 = pickle.load(f)\n",
    "\n",
    "# We only work with the first 25000 images\n",
    "img_dataset = ILSVRC2012[:25000]"
   ]
  },
  {
   "cell_type": "code",
   "execution_count": 4,
   "id": "16ad7e1e-ab10-40ee-ad32-56b7e4e86967",
   "metadata": {},
   "outputs": [],
   "source": [
    "gaussian_10_normalized = normalize_max_row_norm(gaussian_10)\n",
    "gaussian_20_normalized = normalize_max_row_norm(gaussian_20)\n",
    "gaussian_30_normalized = normalize_max_row_norm(gaussian_30)\n",
    "gaussian_40_normalized = normalize_max_row_norm(gaussian_40)\n",
    "\n",
    "gaussian_10_observations = generate_observations(img_dataset, gaussian_10_normalized)\n",
    "gaussian_20_observations = generate_observations(img_dataset, gaussian_20_normalized)\n",
    "gaussian_30_observations = generate_observations(img_dataset, gaussian_30_normalized)\n",
    "gaussian_40_observations = generate_observations(img_dataset, gaussian_40_normalized)\n",
    "\n",
    "gaussian_10_train, gaussian_10_test = split_dataset(gaussian_10_observations, train_ratio = 0.9, seed = 0)\n",
    "gaussian_20_train, gaussian_20_test = split_dataset(gaussian_20_observations, train_ratio = 0.9, seed = 0)\n",
    "gaussian_30_train, gaussian_30_test = split_dataset(gaussian_30_observations, train_ratio = 0.9, seed = 0)\n",
    "gaussian_40_train, gaussian_40_test = split_dataset(gaussian_40_observations, train_ratio = 0.9, seed = 0)"
   ]
  },
  {
   "cell_type": "code",
   "execution_count": 5,
   "id": "751a5862",
   "metadata": {},
   "outputs": [],
   "source": [
    "with open('/Users/wizard/Memory-Net-Inverse/Auxiliary_Functions/sensing_matrices/50 x 50 images/DCT_10.pkl', 'rb') as f:\n",
    "    DCT_10 = pickle.load(f)\n",
    "with open('/Users/wizard/Memory-Net-Inverse/Auxiliary_Functions/sensing_matrices/50 x 50 images/DCT_20.pkl', 'rb') as f:\n",
    "    DCT_20 = pickle.load(f)\n",
    "with open('/Users/wizard/Memory-Net-Inverse/Auxiliary_Functions/sensing_matrices/50 x 50 images/DCT_30.pkl', 'rb') as f:\n",
    "    DCT_30 = pickle.load(f)\n",
    "with open('/Users/wizard/Memory-Net-Inverse/Auxiliary_Functions/sensing_matrices/50 x 50 images/DCT_40.pkl', 'rb') as f:\n",
    "    DCT_40 = pickle.load(f)"
   ]
  },
  {
   "cell_type": "code",
   "execution_count": 6,
   "id": "03e4b96a",
   "metadata": {},
   "outputs": [],
   "source": [
    "DCT_10_normalized = normalize_max_row_norm(DCT_10)\n",
    "DCT_20_normalized = normalize_max_row_norm(DCT_20)\n",
    "DCT_30_normalized = normalize_max_row_norm(DCT_30)\n",
    "DCT_40_normalized = normalize_max_row_norm(DCT_40)\n",
    "\n",
    "DCT_10_observations = generate_observations(img_dataset, DCT_10_normalized)\n",
    "DCT_20_observations = generate_observations(img_dataset, DCT_20_normalized)\n",
    "DCT_30_observations = generate_observations(img_dataset, DCT_30_normalized)\n",
    "DCT_40_observations = generate_observations(img_dataset, DCT_40_normalized)\n",
    "\n",
    "DCT_10_train, DCT_10_test = split_dataset(DCT_10_observations, train_ratio = 0.9, seed = 0)\n",
    "DCT_20_train, DCT_20_test = split_dataset(DCT_20_observations, train_ratio = 0.9, seed = 0)\n",
    "DCT_30_train, DCT_30_test = split_dataset(DCT_30_observations, train_ratio = 0.9, seed = 0)\n",
    "DCT_40_train, DCT_40_test = split_dataset(DCT_40_observations, train_ratio = 0.9, seed = 0)"
   ]
  },
  {
   "cell_type": "code",
   "execution_count": 7,
   "id": "6004bc48",
   "metadata": {},
   "outputs": [],
   "source": [
    "def calculate_average_snr(test_set: dict, sigma: float = 0.05) -> float:\n",
    "    \"\"\"\n",
    "    Calculate average SNR across test images given noiseless measurements, excluding zero images.\n",
    "    \n",
    "    Parameters:\n",
    "    -----------\n",
    "    test_set : dict\n",
    "        Dictionary containing test data with key 'X' for noiseless measurements\n",
    "    sigma : float\n",
    "        Standard deviation of noise to be considered\n",
    "    \n",
    "    Returns:\n",
    "    --------\n",
    "    float : Average SNR in decibels\n",
    "    \"\"\"\n",
    "    X = test_set['X']  # These are already the noiseless measurements (Ax)\n",
    "    m = X.shape[1]     # Number of measurements  \n",
    "    \n",
    "    signal_powers = np.sum(X**2, axis=1)\n",
    "    noise_power = m * sigma**2\n",
    "    \n",
    "    # Filter out zero signals\n",
    "    valid_signals = signal_powers > 0\n",
    "    if not np.any(valid_signals):\n",
    "        return None\n",
    "    \n",
    "    # Calculate SNR only for non-zero signals\n",
    "    valid_snrs = 10 * np.log10(signal_powers[valid_signals] / noise_power)\n",
    "    \n",
    "    return np.mean(valid_snrs)"
   ]
  },
  {
   "cell_type": "code",
   "execution_count": 8,
   "id": "a9a59d2a",
   "metadata": {},
   "outputs": [
    {
     "name": "stdout",
     "output_type": "stream",
     "text": [
      "Average SNR (dB) for DCT-10: 42.61\n",
      "Average SNR (dB) for DCT-20: 39.61\n",
      "Average SNR (dB) for DCT-30: 37.87\n",
      "Average SNR (dB) for DCT-40: 36.63\n",
      "Average SNR (dB) for DCT-10: 34.65\n",
      "Average SNR (dB) for DCT-20: 31.65\n",
      "Average SNR (dB) for DCT-30: 29.91\n",
      "Average SNR (dB) for DCT-40: 28.67\n",
      "Average SNR (dB) for DCT-10: 28.63\n",
      "Average SNR (dB) for DCT-20: 25.63\n",
      "Average SNR (dB) for DCT-30: 23.89\n",
      "Average SNR (dB) for DCT-40: 22.65\n"
     ]
    }
   ],
   "source": [
    "# Calculate average SNR for each DCT case\n",
    "snr_10 = calculate_average_snr(DCT_10_test, sigma=0.01)\n",
    "snr_20 = calculate_average_snr(DCT_20_test, sigma=0.01)\n",
    "snr_30 = calculate_average_snr(DCT_30_test, sigma=0.01)\n",
    "snr_40 = calculate_average_snr(DCT_40_test, sigma=0.01)\n",
    "\n",
    "print(f\"Average SNR (dB) for DCT-10: {snr_10:.2f}\")\n",
    "print(f\"Average SNR (dB) for DCT-20: {snr_20:.2f}\")\n",
    "print(f\"Average SNR (dB) for DCT-30: {snr_30:.2f}\")\n",
    "print(f\"Average SNR (dB) for DCT-40: {snr_40:.2f}\")\n",
    "\n",
    "# Calculate average SNR for each DCT case\n",
    "snr_10 = calculate_average_snr(DCT_10_test, sigma=0.025)\n",
    "snr_20 = calculate_average_snr(DCT_20_test, sigma=0.025)\n",
    "snr_30 = calculate_average_snr(DCT_30_test, sigma=0.025)\n",
    "snr_40 = calculate_average_snr(DCT_40_test, sigma=0.025)\n",
    "\n",
    "print(f\"Average SNR (dB) for DCT-10: {snr_10:.2f}\")\n",
    "print(f\"Average SNR (dB) for DCT-20: {snr_20:.2f}\")\n",
    "print(f\"Average SNR (dB) for DCT-30: {snr_30:.2f}\")\n",
    "print(f\"Average SNR (dB) for DCT-40: {snr_40:.2f}\")\n",
    "\n",
    "# Calculate average SNR for each DCT case\n",
    "snr_10 = calculate_average_snr(DCT_10_test, sigma=0.05)\n",
    "snr_20 = calculate_average_snr(DCT_20_test, sigma=0.05)\n",
    "snr_30 = calculate_average_snr(DCT_30_test, sigma=0.05)\n",
    "snr_40 = calculate_average_snr(DCT_40_test, sigma=0.05)\n",
    "\n",
    "print(f\"Average SNR (dB) for DCT-10: {snr_10:.2f}\")\n",
    "print(f\"Average SNR (dB) for DCT-20: {snr_20:.2f}\")\n",
    "print(f\"Average SNR (dB) for DCT-30: {snr_30:.2f}\")\n",
    "print(f\"Average SNR (dB) for DCT-40: {snr_40:.2f}\")"
   ]
  },
  {
   "cell_type": "code",
   "execution_count": 9,
   "id": "9475c78e",
   "metadata": {},
   "outputs": [
    {
     "name": "stdout",
     "output_type": "stream",
     "text": [
      "Average SNR (dB) for Gauss-10: 32.19\n",
      "Average SNR (dB) for Gauss-20: 32.55\n",
      "Average SNR (dB) for Gauss-30: 32.57\n",
      "Average SNR (dB) for Gauss-40: 32.49\n",
      "Average SNR (dB) for Gauss-10: 24.23\n",
      "Average SNR (dB) for Gauss-20: 24.59\n",
      "Average SNR (dB) for Gauss-30: 24.62\n",
      "Average SNR (dB) for Gauss-40: 24.53\n",
      "Average SNR (dB) for Gauss-10: 18.21\n",
      "Average SNR (dB) for Gauss-20: 18.57\n",
      "Average SNR (dB) for Gauss-30: 18.59\n",
      "Average SNR (dB) for Gauss-40: 18.51\n"
     ]
    }
   ],
   "source": [
    "# Calculate average SNR for each DCT case\n",
    "snr_10 = calculate_average_snr(gaussian_10_test, sigma=0.01)\n",
    "snr_20 = calculate_average_snr(gaussian_20_test, sigma=0.01)\n",
    "snr_30 = calculate_average_snr(gaussian_30_test, sigma=0.01)\n",
    "snr_40 = calculate_average_snr(gaussian_40_test, sigma=0.01)\n",
    "\n",
    "print(f\"Average SNR (dB) for Gauss-10: {snr_10:.2f}\")\n",
    "print(f\"Average SNR (dB) for Gauss-20: {snr_20:.2f}\")\n",
    "print(f\"Average SNR (dB) for Gauss-30: {snr_30:.2f}\")\n",
    "print(f\"Average SNR (dB) for Gauss-40: {snr_40:.2f}\")\n",
    "\n",
    "# Calculate average SNR for each DCT case\n",
    "snr_10 = calculate_average_snr(gaussian_10_test, sigma=0.025)\n",
    "snr_20 = calculate_average_snr(gaussian_20_test, sigma=0.025)\n",
    "snr_30 = calculate_average_snr(gaussian_30_test, sigma=0.025)\n",
    "snr_40 = calculate_average_snr(gaussian_40_test, sigma=0.025)\n",
    "\n",
    "print(f\"Average SNR (dB) for Gauss-10: {snr_10:.2f}\")\n",
    "print(f\"Average SNR (dB) for Gauss-20: {snr_20:.2f}\")\n",
    "print(f\"Average SNR (dB) for Gauss-30: {snr_30:.2f}\")\n",
    "print(f\"Average SNR (dB) for Gauss-40: {snr_40:.2f}\")\n",
    "\n",
    "# Calculate average SNR for each DCT case\n",
    "snr_10 = calculate_average_snr(gaussian_10_test, sigma=0.05)\n",
    "snr_20 = calculate_average_snr(gaussian_20_test, sigma=0.05)\n",
    "snr_30 = calculate_average_snr(gaussian_30_test, sigma=0.05)\n",
    "snr_40 = calculate_average_snr(gaussian_40_test, sigma=0.05)\n",
    "\n",
    "print(f\"Average SNR (dB) for Gauss-10: {snr_10:.2f}\")\n",
    "print(f\"Average SNR (dB) for Gauss-20: {snr_20:.2f}\")\n",
    "print(f\"Average SNR (dB) for Gauss-30: {snr_30:.2f}\")\n",
    "print(f\"Average SNR (dB) for Gauss-40: {snr_40:.2f}\")"
   ]
  }
 ],
 "metadata": {
  "kernelspec": {
   "display_name": "Python 3",
   "language": "python",
   "name": "python3"
  },
  "language_info": {
   "codemirror_mode": {
    "name": "ipython",
    "version": 3
   },
   "file_extension": ".py",
   "mimetype": "text/x-python",
   "name": "python",
   "nbconvert_exporter": "python",
   "pygments_lexer": "ipython3",
   "version": "3.12.1"
  }
 },
 "nbformat": 4,
 "nbformat_minor": 5
}

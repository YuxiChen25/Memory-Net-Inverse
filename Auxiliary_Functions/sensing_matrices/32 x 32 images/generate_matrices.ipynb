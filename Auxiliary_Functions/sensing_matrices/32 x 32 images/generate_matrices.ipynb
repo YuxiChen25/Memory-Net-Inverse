{
 "cells": [
  {
   "cell_type": "code",
   "execution_count": null,
   "metadata": {},
   "outputs": [],
   "source": [
    "import os\n",
    "import sys\n",
    "import pickle\n",
    "sys.path.append('../../')\n",
    "\n",
    "from matrix import gaussian_matrix, kron_product_1d_dct, create_sampling_matrix_32"
   ]
  },
  {
   "cell_type": "code",
   "execution_count": null,
   "metadata": {},
   "outputs": [],
   "source": [
    "with open('/Users/wizard/Memory-Net-Inverse/Auxiliary_Functions/ILSVRC2012_32x32.pkl', 'rb') as f:\n",
    "    imgs = pickle.load(f)"
   ]
  },
  {
   "cell_type": "code",
   "execution_count": null,
   "metadata": {},
   "outputs": [],
   "source": [
    "gaussian_10 = gaussian_matrix((103, 1024), seed = 0) #10% sampling rate\n",
    "gaussian_20 = gaussian_matrix((205, 1024), seed = 0) #20% sampling rate\n",
    "gaussian_30 = gaussian_matrix((308, 1024), seed = 0) #30% sampling rate\n",
    "gaussian_40 = gaussian_matrix((410, 1024), seed = 0) #40% sampling rate"
   ]
  },
  {
   "cell_type": "code",
   "execution_count": null,
   "metadata": {},
   "outputs": [],
   "source": [
    "path = '/Users/wizard/Memory-Net-Inverse/Auxiliary_Functions/sensing_matrices/32 x 32 images'\n",
    "\n",
    "with open(os.path.join(path, 'Gaussian_10.pkl'), 'wb') as f:\n",
    "    pickle.dump(gaussian_10, f)\n",
    "with open(os.path.join(path, 'Gaussian_20.pkl'), 'wb') as f:\n",
    "    pickle.dump(gaussian_20, f)\n",
    "with open(os.path.join(path, 'Gaussian_30.pkl'), 'wb') as f:\n",
    "    pickle.dump(gaussian_30, f)\n",
    "with open(os.path.join(path, 'Gaussian_40.pkl'), 'wb') as f:\n",
    "    pickle.dump(gaussian_40, f)"
   ]
  },
  {
   "cell_type": "code",
   "execution_count": null,
   "metadata": {},
   "outputs": [],
   "source": [
    "DCT_2D = kron_product_1d_dct(32)\n",
    "\n",
    "subsample_10 = create_sampling_matrix_32(n = 32, k = 103, seed = 0) #10% subsampling\n",
    "subsample_20 = create_sampling_matrix_32(n = 32, k = 205, seed = 0) #20% subsampling\n",
    "subsample_30 = create_sampling_matrix_32(n = 32, k = 308, seed = 0) #30% subsampling\n",
    "subsample_40 = create_sampling_matrix_32(n = 32, k = 410, seed = 0) #40% subsampling"
   ]
  },
  {
   "cell_type": "code",
   "execution_count": null,
   "metadata": {},
   "outputs": [],
   "source": [
    "DCT_subsampled_10 = subsample_10 @ DCT_2D\n",
    "DCT_subsampled_20 = subsample_20 @ DCT_2D\n",
    "DCT_subsampled_30 = subsample_30 @ DCT_2D\n",
    "DCT_subsampled_40 = subsample_40 @ DCT_2D"
   ]
  },
  {
   "cell_type": "code",
   "execution_count": null,
   "metadata": {},
   "outputs": [],
   "source": [
    "with open(os.path.join(path, 'DCT_10.pkl'), 'wb') as f:\n",
    "    pickle.dump(DCT_subsampled_10, f)\n",
    "with open(os.path.join(path, 'DCT_20.pkl'), 'wb') as f:\n",
    "    pickle.dump(DCT_subsampled_20, f)\n",
    "with open(os.path.join(path, 'DCT_30.pkl'), 'wb') as f:\n",
    "    pickle.dump(DCT_subsampled_30, f)\n",
    "with open(os.path.join(path, 'DCT_40.pkl'), 'wb') as f:\n",
    "    pickle.dump(DCT_subsampled_40, f)"
   ]
  }
 ],
 "metadata": {
  "kernelspec": {
   "display_name": "Python 3",
   "language": "python",
   "name": "python3"
  },
  "language_info": {
   "codemirror_mode": {
    "name": "ipython",
    "version": 3
   },
   "file_extension": ".py",
   "mimetype": "text/x-python",
   "name": "python",
   "nbconvert_exporter": "python",
   "pygments_lexer": "ipython3",
   "version": "3.12.1"
  }
 },
 "nbformat": 4,
 "nbformat_minor": 2
}

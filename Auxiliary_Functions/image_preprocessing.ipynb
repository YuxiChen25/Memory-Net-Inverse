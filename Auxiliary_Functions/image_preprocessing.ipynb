{
 "cells": [
  {
   "cell_type": "code",
   "execution_count": null,
   "metadata": {},
   "outputs": [],
   "source": [
    "import os\n",
    "import pickle\n",
    "import numpy as np\n",
    "\n",
    "from PIL import Image\n",
    "from tqdm import tqdm\n",
    "from typing import List\n",
    "from torchvision import transforms"
   ]
  },
  {
   "cell_type": "code",
   "execution_count": null,
   "metadata": {},
   "outputs": [],
   "source": [
    "def crop_and_split(image_path: str, n: int) -> List[np.ndarray]:\n",
    "    \"\"\"\n",
    "    Crops the center nxn region of an image and splits it into 9 smaller (n/3)x(n/3) images.\n",
    "\n",
    "    Parameters\n",
    "    ----------\n",
    "    image_path : str\n",
    "        The file path to the image.\n",
    "    n : int\n",
    "        The center image size to crop\n",
    "\n",
    "    Returns\n",
    "    -------\n",
    "    List[np.ndarray]\n",
    "        A list of 9 patches, each of size 50x50, extracted from the center cropped image.\n",
    "    \"\"\"\n",
    "\n",
    "    transform = transforms.Compose([\n",
    "        transforms.Grayscale(),  \n",
    "        transforms.CenterCrop(n) \n",
    "    ])\n",
    "    \n",
    "    img = Image.open(image_path)\n",
    "    img = transform(img)\n",
    "\n",
    "    img_np = np.array(img)\n",
    "    \n",
    "    patches = []\n",
    "    for i in range(3):\n",
    "        for j in range(3):\n",
    "            patch = img_np[i*int(n/3):(i+1)*int(n/3), j*int(n/3):(j+1)*int(n/3)]\n",
    "            patches.append(patch)\n",
    "    \n",
    "    return patches"
   ]
  },
  {
   "cell_type": "code",
   "execution_count": null,
   "metadata": {},
   "outputs": [],
   "source": [
    "# Path to ImageNet Large Scale Visual Recognizition Challenge 2012 Validation Set (ILSVRC 2012)\n",
    "folder_path = '/Users/wizard/Downloads/ILSVRC2012_img_val'\n",
    "\n",
    "# Matrix To Store All Entries\n",
    "img_mtrx = np.zeros((450000, 2500), dtype = np.float32)\n",
    "\n",
    "curr_idx = 0\n",
    "for i in tqdm(range(1, 50001), desc = 'Processing'):\n",
    "    path = os.path.join(folder_path, f'ILSVRC2012_val_{i:08d}.JPEG')\n",
    "\n",
    "    patches = crop_and_split(path, n = 150)\n",
    "\n",
    "    for patch in patches:\n",
    "        img_mtrx[curr_idx] = patch.flatten()\n",
    "        curr_idx += 1\n",
    "    "
   ]
  },
  {
   "cell_type": "code",
   "execution_count": null,
   "metadata": {},
   "outputs": [],
   "source": [
    "with open('/Users/wizard/Memory-Net-Inverse/Auxiliary_Functions/ILSVRC2012_50x50.pkl', 'wb') as f:\n",
    "    pickle.dump(img_mtrx, f)"
   ]
  }
 ],
 "metadata": {
  "kernelspec": {
   "display_name": "Python 3",
   "language": "python",
   "name": "python3"
  },
  "language_info": {
   "codemirror_mode": {
    "name": "ipython",
    "version": 3
   },
   "file_extension": ".py",
   "mimetype": "text/x-python",
   "name": "python",
   "nbconvert_exporter": "python",
   "pygments_lexer": "ipython3",
   "version": "3.12.1"
  }
 },
 "nbformat": 4,
 "nbformat_minor": 2
}
